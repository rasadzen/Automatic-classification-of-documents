{
 "cells": [
  {
   "cell_type": "code",
   "execution_count": null,
   "metadata": {},
   "outputs": [],
   "source": [
    "import sqlite3\n",
    "import numpy as np\n",
    "from sklearn.feature_extraction.text import TfidfVectorizer\n",
    "from sklearn.model_selection import train_test_split\n",
    "from sklearn.naive_bayes import MultinomialNB\n",
    "from sklearn.metrics import accuracy_score\n",
    "from sklearn.pipeline import make_pipeline\n",
    "import matplotlib.pyplot as plt"
   ]
  },
  {
   "cell_type": "code",
   "execution_count": null,
   "metadata": {},
   "outputs": [],
   "source": [
    "\n",
    "# Prisijungti prie SQLite databazes\n",
    "conn = sqlite3.connect('documents.db')\n",
    "cursor = conn.cursor()\n",
    "\n",
    "# Pasirinkt text ir label\n",
    "cursor.execute(\"SELECT text, label FROM documents\")\n",
    "documents = cursor.fetchall()\n",
    "\n",
    "conn.close()\n",
    "\n",
    "# Indeksuoti teksta ir labelius\n",
    "texts = [doc[0] for doc in documents]\n",
    "labels = [doc[1] for doc in documents]"
   ]
  },
  {
   "cell_type": "code",
   "execution_count": null,
   "metadata": {},
   "outputs": [],
   "source": [
    "# Padaliname database i test ir train\n",
    "X_train, X_test, y_train, y_test = train_test_split(texts, labels, test_size=0.2, random_state=42)\n",
    "\n",
    "# Apibreziame modeli\n",
    "model = make_pipeline(TfidfVectorizer(), MultinomialNB())\n",
    "\n",
    "# Treniruojame modeli\n",
    "model.fit(X_train, y_train)\n",
    "\n",
    "# Spejimai\n",
    "predicted_categories = model.predict(X_test)\n",
    "\n",
    "# Atspausdiname spejimus (teksto indeksas, tikra kategorija ir spejama kategorija)\n",
    "for idx, (text, actual_category, predicted_category) in enumerate(zip(X_test, y_test, predicted_categories)):\n",
    "    print(f\"Index: {idx}, Tikra kategorija: {actual_category} Spėjama kategorija: {predicted_category}\")\n"
   ]
  },
  {
   "cell_type": "code",
   "execution_count": null,
   "metadata": {},
   "outputs": [],
   "source": [
    "# Tikslumas\n",
    "accuracy = accuracy_score(y_test, predicted_categories)\n",
    "print(f'Accuracy: {accuracy*100:.2f}%')\n",
    "\n",
    "plt.figure(figsize=(6,4))\n",
    "plt.bar(['Accuracy'], [accuracy*100], color='red')\n",
    "plt.ylabel('Procentai')\n",
    "plt.title('Modelio tikslumas')\n",
    "plt.ylim(0, 100)\n",
    "plt.show()"
   ]
  }
 ],
 "metadata": {
  "language_info": {
   "name": "python"
  }
 },
 "nbformat": 4,
 "nbformat_minor": 2
}
